{
 "cells": [
  {
   "cell_type": "code",
   "execution_count": 12,
   "id": "a2756a94",
   "metadata": {},
   "outputs": [
    {
     "data": {
      "text/plain": [
       "3.4"
      ]
     },
     "execution_count": 12,
     "metadata": {},
     "output_type": "execute_result"
    }
   ],
   "source": [
    "IC_1  = 2e10\n",
    "IC_2 = 3e10\n",
    "f_1 = 1e9\n",
    "f_2 = 2e9\n",
    "cpi_1 = 2\n",
    "cpi_2 = 3.4\n",
    "#"
   ]
  },
  {
   "cell_type": "code",
   "execution_count": 13,
   "id": "495717e8",
   "metadata": {},
   "outputs": [
    {
     "name": "stdout",
     "output_type": "stream",
     "text": [
      "t1 = 40.0 t2 = 51.0\n"
     ]
    }
   ],
   "source": [
    "t1  = IC_1 * cpi_1 /f_1\n",
    "t2 = IC_2 * cpi_2 /f_2\n",
    "println(\"t1 = \", t1 , \" t2 = \", t2)"
   ]
  },
  {
   "cell_type": "code",
   "execution_count": 14,
   "id": "7a24cd0c",
   "metadata": {},
   "outputs": [
    {
     "data": {
      "text/plain": [
       "-1.1000000000000001e-8"
      ]
     },
     "execution_count": 14,
     "metadata": {},
     "output_type": "execute_result"
    }
   ],
   "source": [
    "t_diff = (t1 - t2)* 1e-9"
   ]
  },
  {
   "cell_type": "code",
   "execution_count": 15,
   "id": "b3c917d8",
   "metadata": {},
   "outputs": [
    {
     "data": {
      "text/plain": [
       "calc_time (generic function with 1 method)"
      ]
     },
     "execution_count": 15,
     "metadata": {},
     "output_type": "execute_result"
    }
   ],
   "source": [
    "function calc_time(IC, CPI, time)\n",
    "    return IC * CPI * time\n",
    "end"
   ]
  },
  {
   "cell_type": "code",
   "execution_count": 16,
   "id": "aad0bfeb",
   "metadata": {},
   "outputs": [
    {
     "name": "stdout",
     "output_type": "stream",
     "text": [
      "7.5e8"
     ]
    }
   ],
   "source": [
    "cpi_3 = 1.5\n",
    "t3  = t1/(cpi_3 * IC_1)\n",
    "print(1/t3)"
   ]
  },
  {
   "cell_type": "code",
   "execution_count": 17,
   "id": "37fd17f0",
   "metadata": {},
   "outputs": [
    {
     "data": {
      "text/plain": [
       "40.0"
      ]
     },
     "execution_count": 17,
     "metadata": {},
     "output_type": "execute_result"
    }
   ],
   "source": [
    "calc_time(IC_1, cpi_1, 1/f_1)"
   ]
  },
  {
   "cell_type": "code",
   "execution_count": 18,
   "id": "5b1883b8",
   "metadata": {},
   "outputs": [
    {
     "data": {
      "text/plain": [
       "calc_factor (generic function with 1 method)"
      ]
     },
     "execution_count": 18,
     "metadata": {},
     "output_type": "execute_result"
    }
   ],
   "source": [
    "function calc_factor(CPI_1, CPI_2, T_1, T_2)\n",
    "    return CPI_1 * T_1 * 2/(CPI_2 * T_2 * 3)\n",
    "end"
   ]
  },
  {
   "cell_type": "code",
   "execution_count": 19,
   "id": "8dc7889e",
   "metadata": {},
   "outputs": [
    {
     "data": {
      "text/plain": [
       "0.7843137254901961"
      ]
     },
     "execution_count": 19,
     "metadata": {},
     "output_type": "execute_result"
    }
   ],
   "source": [
    "calc_factor(cpi_1, cpi_2, 1/f_1, 1/f_2)"
   ]
  },
  {
   "cell_type": "code",
   "execution_count": 20,
   "id": "333b2eac",
   "metadata": {},
   "outputs": [
    {
     "data": {
      "text/plain": [
       "51.00306018361101"
      ]
     },
     "execution_count": 20,
     "metadata": {},
     "output_type": "execute_result"
    }
   ],
   "source": [
    "40 * (1/1.1764) * 3/2\n"
   ]
  },
  {
   "cell_type": "code",
   "execution_count": null,
   "id": "de25a7b0",
   "metadata": {},
   "outputs": [],
   "source": []
  }
 ],
 "metadata": {
  "kernelspec": {
   "display_name": "Julia 1.7.3",
   "language": "julia",
   "name": "julia-1.7"
  },
  "language_info": {
   "file_extension": ".jl",
   "mimetype": "application/julia",
   "name": "julia",
   "version": "1.7.3"
  }
 },
 "nbformat": 4,
 "nbformat_minor": 5
}
